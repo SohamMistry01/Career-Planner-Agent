{
 "cells": [
  {
   "cell_type": "code",
   "execution_count": 1,
   "metadata": {},
   "outputs": [],
   "source": [
    "import os\n",
    "from dotenv import load_dotenv\n",
    "load_dotenv()\n",
    "\n",
    "groq_api_key = os.getenv(\"GROQ_API_KEY\")\n",
    "if groq_api_key is None:\n",
    "    raise ValueError(\"GROQ_API_KEY environment variable is not set\")\n",
    "os.environ[\"GROQ_API_KEY\"] = groq_api_key\n",
    "\n",
    "from langchain_groq import ChatGroq\n",
    "\n",
    "llm = ChatGroq(model=\"llama-3.3-70b-versatile\")"
   ]
  },
  {
   "cell_type": "code",
   "execution_count": 18,
   "metadata": {},
   "outputs": [],
   "source": [
    "from typing_extensions import TypedDict\n",
    "from langgraph.graph import StateGraph, START, END\n",
    "from IPython.display import Image ,display\n",
    "\n",
    "class State(TypedDict):\n",
    "    name:str\n",
    "    career:str\n",
    "    education:str\n",
    "    year:str\n",
    "    advise:str"
   ]
  },
  {
   "cell_type": "code",
   "execution_count": 19,
   "metadata": {},
   "outputs": [],
   "source": [
    "def generate_career_advise(state:State):\n",
    "    msg=llm.invoke(f\"\"\"\n",
    "                   You are an expert career adviser.\n",
    "                   Generate a detailed career plan for user whose name is {state[\"name\"]}.\n",
    "                   User wants to build a career in {state['career']}.\n",
    "                   User's educational qualifications are: {state['education']}.\n",
    "                   User is currently studying in {state['year']}.\n",
    "                   Create the career plan in MarkDown formatting.\n",
    "    \"\"\")\n",
    "    return {\"advise\":msg.content}"
   ]
  },
  {
   "cell_type": "code",
   "execution_count": 20,
   "metadata": {},
   "outputs": [
    {
     "data": {
      "image/png": "[encoded data removed]",
      "text/plain": [
       "<IPython.core.display.Image object>"
      ]
     },
     "metadata": {},
     "output_type": "display_data"
    }
   ],
   "source": [
    "graph = StateGraph(State)\n",
    "\n",
    "graph.add_node(\"career planner\", generate_career_advise)\n",
    "graph.add_edge(START,\"career planner\")\n",
    "graph.add_edge(\"career planner\",END)\n",
    "\n",
    "compiled_graph = graph.compile()\n",
    "\n",
    "graph_image = compiled_graph.get_graph().draw_mermaid_png()\n",
    "display(Image(graph_image))"
   ]
  },
  {
   "cell_type": "code",
   "execution_count": 21,
   "metadata": {},
   "outputs": [],
   "source": [
    "from IPython.display import Markdown\n",
    "\n",
    "name = \"Soham\"\n",
    "career = \"AI Developer\"\n",
    "education = \"Bachelors in Technology\"\n",
    "year = \"Final Year of Computer Engineering\"\n",
    "\n",
    "state = compiled_graph.invoke({\n",
    "    \"name\":name,\n",
    "    \"career\":career,\n",
    "    \"education\":education,\n",
    "    \"year\":year\n",
    "})"
   ]
  },
  {
   "cell_type": "code",
   "execution_count": 22,
   "metadata": {},
   "outputs": [
    {
     "data": {
      "text/markdown": [
       "### Career Plan for Soham: AI Developer\n",
       "#### Introduction\n",
       "As a final-year computer engineering student, Soham has a solid foundation in computer science and is well-positioned to pursue a career in AI development. This career plan outlines the steps Soham can take to achieve his goal of becoming an AI developer.\n",
       "\n",
       "#### Short-Term Goals (Next 6-12 months)\n",
       "##### 1. **Complete Bachelor's Degree**\n",
       "* Finish the final year of computer engineering with a strong academic record\n",
       "* Focus on courses related to artificial intelligence, machine learning, and data structures\n",
       "\n",
       "##### 2. **Gain Practical Experience**\n",
       "* Participate in hackathons, coding challenges, and AI-themed competitions to apply theoretical knowledge\n",
       "* Collaborate with peers on projects that involve AI and machine learning\n",
       "* Contribute to open-source AI projects on platforms like GitHub or Kaggle\n",
       "\n",
       "##### 3. **Develop Essential Skills**\n",
       "* Programming languages: Python, Java, C++\n",
       "* AI frameworks: TensorFlow, PyTorch, Keras\n",
       "* Data structures and algorithms: arrays, linked lists, stacks, queues, trees, graphs\n",
       "* Familiarity with cloud platforms: AWS, Google Cloud, Azure\n",
       "\n",
       "##### 4. **Build a Personal Project**\n",
       "* Design and develop a personal AI project, such as:\n",
       "\t+ Image classification using convolutional neural networks (CNNs)\n",
       "\t+ Natural language processing (NLP) for text analysis\n",
       "\t+ Chatbot development using dialogue management systems\n",
       "\n",
       "#### Mid-Term Goals (Next 1-2 years)\n",
       "##### 1. **Pursue a Master's Degree (Optional)**\n",
       "* Consider pursuing a master's degree in AI, machine learning, or a related field to enhance knowledge and skills\n",
       "* Research universities and programs that align with Soham's interests and career goals\n",
       "\n",
       "##### 2. **Gain Industry Experience**\n",
       "* Intern or co-op with companies that specialize in AI development\n",
       "* Network with professionals in the field to learn about new trends and opportunities\n",
       "* Participate in industry conferences, meetups, and workshops to stay updated on the latest advancements\n",
       "\n",
       "##### 3. **Develop Specialized Skills**\n",
       "* Deep learning: recurrent neural networks (RNNs), long short-term memory (LSTM) networks\n",
       "* Computer vision: object detection, segmentation, tracking\n",
       "* NLP: sentiment analysis, topic modeling, language translation\n",
       "\n",
       "##### 4. **Create a Professional Online Presence**\n",
       "* Build a professional website or blog to showcase projects, skills, and experiences\n",
       "* Establish a strong LinkedIn profile and connect with professionals in the AI community\n",
       "\n",
       "#### Long-Term Goals (Next 2-5 years)\n",
       "##### 1. **Become a Specialist in AI Development**\n",
       "* Focus on a specific area of AI, such as computer vision, NLP, or robotics\n",
       "* Develop expertise in that area through continuous learning, research, and project development\n",
       "\n",
       "##### 2. **Lead Projects and Teams**\n",
       "* Take on leadership roles in AI development projects, guiding teams and mentoring junior developers\n",
       "* Collaborate with cross-functional teams to integrate AI solutions into larger products or systems\n",
       "\n",
       "##### 3. **Publish Research and Present at Conferences**\n",
       "* Publish research papers on AI-related topics in reputable journals or conferences\n",
       "* Present at industry conferences, meetups, or workshops to share knowledge and expertise\n",
       "\n",
       "##### 4. **Stay Current with Industry Advancements**\n",
       "* Continuously update skills and knowledge to keep pace with the rapidly evolving AI landscape\n",
       "* Participate in online forums, discussions, and webinars to stay informed about new trends and breakthroughs\n",
       "\n",
       "#### Conclusion\n",
       "By following this career plan, Soham can set himself up for success in the field of AI development. With a strong foundation in computer science, practical experience, and continuous learning, Soham can become a skilled AI developer and achieve his long-term career goals."
      ],
      "text/plain": [
       "<IPython.core.display.Markdown object>"
      ]
     },
     "execution_count": 22,
     "metadata": {},
     "output_type": "execute_result"
    }
   ],
   "source": [
    "Markdown(state['advise'])\n"
   ]
  },
  {
   "cell_type": "code",
   "execution_count": null,
   "metadata": {},
   "outputs": [],
   "source": []
  }
 ],
 "metadata": {
  "kernelspec": {
   "display_name": "venv",
   "language": "python",
   "name": "python3"
  },
  "language_info": {
   "codemirror_mode": {
    "name": "ipython",
    "version": 3
   },
   "file_extension": ".py",
   "mimetype": "text/x-python",
   "name": "python",
   "nbconvert_exporter": "python",
   "pygments_lexer": "ipython3",
   "version": "3.12.0"
  }
 },
 "nbformat": 4,
 "nbformat_minor": 2
}
